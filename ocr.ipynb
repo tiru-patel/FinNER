{
 "cells": [
  {
   "cell_type": "code",
   "execution_count": 2,
   "metadata": {},
   "outputs": [
    {
     "name": "stdout",
     "output_type": "stream",
     "text": [
      "Collecting azure-cognitiveservices-vision-computervision\n",
      "  Downloading azure_cognitiveservices_vision_computervision-0.9.0-py2.py3-none-any.whl (39 kB)\n",
      "Collecting azure-common~=1.1\n",
      "  Downloading azure_common-1.1.28-py2.py3-none-any.whl (14 kB)\n",
      "Collecting msrest>=0.5.0\n",
      "  Downloading msrest-0.6.21-py2.py3-none-any.whl (85 kB)\n",
      "Collecting requests-oauthlib>=0.5.0\n",
      "  Downloading requests_oauthlib-1.3.1-py2.py3-none-any.whl (23 kB)\n",
      "Collecting isodate>=0.6.0\n",
      "  Downloading isodate-0.6.1-py2.py3-none-any.whl (41 kB)\n",
      "Requirement already satisfied, skipping upgrade: requests~=2.16 in c:\\users\\tirth\\anaconda3\\lib\\site-packages (from msrest>=0.5.0->azure-cognitiveservices-vision-computervision) (2.24.0)\n",
      "Requirement already satisfied, skipping upgrade: certifi>=2017.4.17 in c:\\users\\tirth\\anaconda3\\lib\\site-packages (from msrest>=0.5.0->azure-cognitiveservices-vision-computervision) (2020.6.20)\n",
      "Collecting oauthlib>=3.0.0\n",
      "  Downloading oauthlib-3.2.0-py3-none-any.whl (151 kB)\n",
      "Requirement already satisfied, skipping upgrade: six in c:\\users\\tirth\\anaconda3\\lib\\site-packages (from isodate>=0.6.0->msrest>=0.5.0->azure-cognitiveservices-vision-computervision) (1.15.0)\n",
      "Requirement already satisfied, skipping upgrade: idna<3,>=2.5 in c:\\users\\tirth\\anaconda3\\lib\\site-packages (from requests~=2.16->msrest>=0.5.0->azure-cognitiveservices-vision-computervision) (2.10)\n",
      "Requirement already satisfied, skipping upgrade: urllib3!=1.25.0,!=1.25.1,<1.26,>=1.21.1 in c:\\users\\tirth\\anaconda3\\lib\\site-packages (from requests~=2.16->msrest>=0.5.0->azure-cognitiveservices-vision-computervision) (1.25.9)\n",
      "Requirement already satisfied, skipping upgrade: chardet<4,>=3.0.2 in c:\\users\\tirth\\anaconda3\\lib\\site-packages (from requests~=2.16->msrest>=0.5.0->azure-cognitiveservices-vision-computervision) (3.0.4)\n",
      "Installing collected packages: azure-common, oauthlib, requests-oauthlib, isodate, msrest, azure-cognitiveservices-vision-computervision\n",
      "Successfully installed azure-cognitiveservices-vision-computervision-0.9.0 azure-common-1.1.28 isodate-0.6.1 msrest-0.6.21 oauthlib-3.2.0 requests-oauthlib-1.3.1\n"
     ]
    }
   ],
   "source": [
    "!pip install --upgrade azure-cognitiveservices-vision-computervision"
   ]
  },
  {
   "cell_type": "code",
   "execution_count": 3,
   "metadata": {
    "jupyter": {
     "outputs_hidden": false,
     "source_hidden": false
    },
    "nteract": {
     "transient": {
      "deleting": false
     }
    }
   },
   "outputs": [
    {
     "name": "stdout",
     "output_type": "stream",
     "text": [
      "Requirement already satisfied: pillow in c:\\users\\tirth\\anaconda3\\lib\\site-packages (7.2.0)\n"
     ]
    }
   ],
   "source": [
    "!pip3 install pillow"
   ]
  },
  {
   "cell_type": "code",
   "execution_count": 17,
   "metadata": {
    "gather": {
     "logged": 1650777121474
    },
    "jupyter": {
     "outputs_hidden": false,
     "source_hidden": false
    },
    "nteract": {
     "transient": {
      "deleting": false
     }
    }
   },
   "outputs": [],
   "source": [
    "\n",
    "text=[]"
   ]
  },
  {
   "cell_type": "code",
   "execution_count": 37,
   "metadata": {
    "gather": {
     "logged": 1650777136867
    },
    "jupyter": {
     "outputs_hidden": false,
     "source_hidden": false
    },
    "nteract": {
     "transient": {
      "deleting": false
     }
    }
   },
   "outputs": [
    {
     "name": "stdout",
     "output_type": "stream",
     "text": [
      "Waiting for result...\n"
     ]
    }
   ],
   "source": [
    "from azure.cognitiveservices.vision.computervision import ComputerVisionClient\n",
    "from azure.cognitiveservices.vision.computervision.models import OperationStatusCodes\n",
    "from azure.cognitiveservices.vision.computervision.models import VisualFeatureTypes\n",
    "from msrest.authentication import CognitiveServicesCredentials\n",
    "\n",
    "from array import array\n",
    "import os\n",
    "from PIL import Image\n",
    "import sys\n",
    "import time\n",
    "'''\n",
    "Authenticate\n",
    "Authenticates your credentials and creates a client.\n",
    "'''\n",
    "subscription_key = \"46474a13a1ab4a3a9f386dad02910215\"\n",
    "endpoint = \"https://finner.cognitiveservices.azure.com/\"\n",
    "\n",
    "computervision_client = ComputerVisionClient(endpoint, CognitiveServicesCredentials(subscription_key))\n",
    "images_folder=\"./Data/\"\n",
    "# Get image path\n",
    "read_image_path = os.path.join (images_folder, \"Marco S Ng_page-0001.jpg\")\n",
    "# Open the image\n",
    "read_image = open(read_image_path, \"rb\")\n",
    "\n",
    "# Call API with image and raw response (allows you to get the operation location)\n",
    "read_response = computervision_client.read_in_stream(read_image, raw=True)\n",
    "# Get the operation location (URL with ID as last appendage)\n",
    "read_operation_location = read_response.headers[\"Operation-Location\"]\n",
    "# Take the ID off and use to get results\n",
    "operation_id = read_operation_location.split(\"/\")[-1]\n",
    "\n",
    "# Call the \"GET\" API and wait for the retrieval of the results\n",
    "while True:\n",
    "    read_result = computervision_client.get_read_result(operation_id)\n",
    "    if read_result.status.lower () not in ['notstarted', 'running']:\n",
    "        break\n",
    "    print ('Waiting for result...')\n",
    "    time.sleep(10)\n",
    "ext_text=[]\n",
    "# Print results, line by line\n",
    "if read_result.status == OperationStatusCodes.succeeded:\n",
    "    for text_result in read_result.analyze_result.read_results:\n",
    "        for line in text_result.lines:\n",
    "            ext_text.append(line.text)\n",
    "\n",
    "            #print(line.text)\n",
    "            #print(line.bounding_box)\n",
    "t=\" \".join(ext_text)\n",
    "text.append(t)"
   ]
  },
  {
   "cell_type": "code",
   "execution_count": 38,
   "metadata": {
    "gather": {
     "logged": 1650777169352
    },
    "jupyter": {
     "outputs_hidden": false,
     "source_hidden": false
    },
    "nteract": {
     "transient": {
      "deleting": false
     }
    }
   },
   "outputs": [
    {
     "data": {
      "text/plain": [
       "['Reset Form TD Ameritrade ACCOUNT TRANSFER FORM TO TRANSFER YOUR EXISTING Institutional ACCOUNT TO TD AMERITRADE Account # 896542008 Advisor Code 806542008 Case # PLEASE ATTACH A COPY OF YOUR LATEST STATEMENT. 1 TD AMERITRADE ACCOUNT INFORMATION Account Title/Registration Alexis W Figueroa Social Security Number/Tax ID: 555455545 Clearing Number: 0188 Individual Personal Trust Limited Liability Company [] Roth IRA Qualified Retirement Plan (Non-Qualified) Employer Plan Type: Joint Estate Partnership/Investment Club SEP IRA Simple IRA UTMA/UGMA Corporate Traditional IRA/Rollover IRA Coverdell ESA Beneficiary IRA Other: 2 INFORMATION ON THE ACCOUNT YOU ARE TRANSFERRING FROM Account Title/Registration as shown on your statement: Account Number: Alexis W Figueroa 78965478 Name of Delivering Firm: Employee Fiduciary Physical Address of Firm (no PO BOX) 1376 Brentwood Drive, Austin, Texas, 78701 Telephone Number (required): (541) 754-3008 Individua Personal Trust Limited Liability Company Roth IRA Qualified Retirement Plan (Non-Qualified) Employer Plan Type: Joint Estate Partnership/Investment Club SEP IRA Simple IRA Has SIMPLE IRA been funded for at least two years? Yes ONo UTMA/UGMA Corporate Traditional IRA/Rollover IRA Coverdell ESA Beneficiary IRA Other: 3 LIST THE ASSETS YOU WANT TO TRANSFER A. Transfer from an ACAT eligible Brokerage Firm, Bank, Insurance/Annuity Co ., Trust Co ., or Transfer Agent - Check box for full or partial transfer. For partial transfers, list descriptions of assets and shares. Unless otherwise indicated, TD Ameritrade will transfer in full. Please note - The ACAT system does not allow for liquidation requests. To place trades, please contact your current custodian prior to submitting the transfer request. Most banks, insurance/annuity, and trust companies require original wet-ink signature mailed to TD Ameritrade. If transferring in Alternative Investments, please obtain a copy of the Transfer In Only Alternative Investment Client Custody Agreement from your Advisor, the terms of which will apply to our custody of your Alternative Investments. No signature is required. [2] Full Transfer - To transfer entire account, check box and Partial Transfer - List specific security. If bonds are being transferred, skip to Section 4 (if applicable), then to the Signature Section. please supply the Bond CUSIP. Description of Asset \\'Partial transfers only) Quantity (Indicate # of shares or \"ALL\") Description of Asset (Partial transfers only) Quantity (Indicate # of shares or \"ALL\") PFG, 74251V102 7564 BEN, 354613101 1230 SEIC,784117103 456 SLA,029570108 984 NTRS, 665859104 8523 For additional securities, see attached list. [ Page 1 of 5 TDAI 9582 REV. 02/17',\n",
       " 'Reset Form TD Ameritrade ACCOUNT TRANSFER FORM TO TRANSFER YOUR EXISTING Institutional ACCOUNT TO TD AMERITRADE Account # 895478037 Advisor Code 569820037 Case # PLEASE ATTACH A COPY OF YOUR LATEST STATEMENT. 1 TD AMERITRADE ACCOUNT INFORMATION Account Title/Registration: Claudia M McMullen - Juliane S Padgett Social Security Number/Tax ID: Clearing Number: 044190820 0188 Individual Personal Trust Limited Liability Company Roth IRA Qualified Retirement Plan (Non-Qualified) Employer Plan Type: Joint Estate Partnership/Investment Club SEP IRA Simple IRA UTMA/UGMA Corporate Traditional IRA/Rollover IRA Coverdell ESA Beneficiary IRA Other: 2 INFORMATION ON THE ACCOUNT YOU ARE TRANSFERRING FROM Account Title/Registration as shown on your statement: Account Number: Claudia M McMullen - Juliane S Padgett 96001547 Name of Delivering Firm: Vanguard Physical Address of Firm (no PO BOX): 2966 Bedford Street, New York, Connecticut, 10011 Telephone Number (required): (541) 754-3037 Individua Personal Trust Limited Liability Company Roth IRA Qualified Retirement Plan (Non-Qualified) Employer Plan Type: Joint Estate Partnership/Investment Club SEP IRA Simple IRA Has SIMPLE IRA been funded for at least two years? Yes ]No UTMA/UGMA Corporate Traditional IRA/Rollover IRA Coverdell ESA Beneficiary IRA Other: 3 LIST THE ASSETS YOU WANT TO TRANSFER A. Transfer from an ACAT eligible Brokerage Firm, Bank, Insurance/Annuity Co ., Trust Co ., or Transfer Agent - Check box for full or partial transfer. For partial transfers, list descriptions of assets and shares. Unless otherwise indicated, TD Ameritrade will transfer in full. Please note - The ACAT system does not allow for liquidation requests. To place trades, please contact your current custodian prior to submitting the transfer request. Most banks, insurance/annuity, and trust companies require original wet-ink signature mailed to TD Ameritrade. If transferring in Alternative Investments, please obtain a copy of the Transfer In Only Alternative Investment Client Custody Agreement from your Advisor, the terms of which will apply to our custody of your Alternative Investments. No signature is required. [] Full Transfer - To transfer entire account, check box and Partial Transfer - List specific security. If bonds are being transferred, skip to Section 4 (if applicable), then to the Signature Section. please supply the Bond CUSIP. Description of Asset Quantity Description of Asset \\'Indicate # of shares or \"ALL\") (Partial transfers only) Quantity (Partial transfers only) (Indicate # of shares or \"ALL\") BEN, 354613101 12135 For additional securities, see attached list. [ Page 1 of 5 TDAI 9582 REV. 02/17',\n",
       " 'Reset Form TD Ameritrade ACCOUNT TRANSFER FORM TO TRANSFER YOUR EXISTING Institutional ACCOUNT TO TD AMERITRADE Account # 569820047 Advisor Code 509820047 Case # PLEASE ATTACH A COPY OF YOUR LATEST STATEMENT. 1 TD AMERITRADE ACCOUNT INFORMATION Account Title/Registration: David T Jarvis Social Security Number/Tax ID: Clearing Number: 372525158 0188 Individual Personal Trust Limited Liability Company Roth IRA Qualified Retirement Plan (Non-Qualified) Employer Plan Type: Joint Estate Partnership/Investment Club SEP IRA Simple IRA UTMA/UGMA Corporate Traditional IRA/Rollover IRA Coverdell ESA Beneficiary IRA Other: 2 INFORMATION ON THE ACCOUNT YOU ARE TRANSFERRING FROM Account Title/Registration as shown on your statement: Account Number: David T Jarvis 48933789 Name of Delivering Firm: American Funds Physical Address of Firm (no PO BOX) 4572 Haven Lane, Lansing, Michigan,48933 Telephone Number (required): (541) 754-1047 Individua Personal Trust [2]Limited Liability Company Roth IRA Qualified Retirement Plan (Non-Qualified) Employer Plan Type: Joint Estate Partnership/Investment Club SEP IRA Simple IRA Has SIMPLE IRA been funded for at least two years? Yes No UTMA/UGMA Corporate Traditional IRA/Rollover IRA Coverdell ESA Beneficiary IRA Other: 3 LIST THE ASSETS YOU WANT TO TRANSFER A. Transfer from an ACAT eligible Brokerage Firm, Bank, Insurance/Annuity Co ., Trust Co ., or Transfer Agent - Check box for full or partial transfer. For partial transfers, list descriptions of assets and shares. Unless otherwise indicated, TD Ameritrade will transfer in full. Please note - The ACAT system does not allow for liquidation requests. To place trades, please contact your current custodian prior to submitting the transfer request. Most banks, insurance/annuity, and trust companies require original wet-ink signature mailed to TD Ameritrade. If transferring in Alternative Investments, please obtain a copy of the Transfer In Only Alternative Investment Client Custody Agreement from your Advisor, the terms of which will apply to our custody of your Alternative Investments. No signature is required. [] Full Transfer - To transfer entire account, check box and Partial Transfer - List specific security. If bonds are being transferred, skip to Section 4 (if applicable), then to the Signature Section. please supply the Bond CUSIP. Description of Asset \\'Partial transfers only) Quantity Description of Asset \"Indicate # of shares or \"ALL\") (Partial transfers only) Quantity (Indicate # of shares or \"ALL\") SEIC,784117103 452 SLA,029570108 8563 NTRS, 665859104 102 For additional securities, see attached list. [ Page 1 of 5 TDAI 9582 REV. 02/17',\n",
       " 'Reset Form TD Ameritrade ACCOUNT TRANSFER FORM TO TRANSFER YOUR EXISTING Institutional ACCOUNT TO TD AMERITRADE Account # 895478118 Advisor Code 569820118 Case # PLEASE ATTACH A COPY OF YOUR LATEST STATEMENT. 1 TD AMERITRADE ACCOUNT INFORMATION Account Title/Registration: Kelly D Ellis Social Security Number/Tax ID: Clearing Number: 153472012 0188 Individual Personal Trust Limited Liability Company Roth IRA Qualified Retirement Plan (Non-Qualified) Employer Plan Type: Joint Estate Partnership/Investment Club SEP IRA Simple IRA ]UTMA/UGMA Corporate Traditional IRA/Rollover IRA Coverdell ESA Beneficiary IRA Other: 2 INFORMATION ON THE ACCOUNT YOU ARE TRANSFERRING FROM Account Title/Registration as shown on your statement: Account Number: Kelly D Ellis 870214 Name of Delivering Firm: Fidelity Investments Physical Address of Firm (no PO BOX) 4819 Jadewood Farms, Newton, New Jersey,07860 Telephone Number (required): (541) 754-3118 Individua [2] Personal Trust Limited Liability Company Roth IRA Qualified Retirement Plan (Non-Qualified) Employer Plan Type: Joint Estate Partnership/Investment Club SEP IRA Simple IRA Has SIMPLE IRA been funded for at least two years? Yes ONo UTMA/UGMA Corporate Traditional IRA/Rollover IRA Coverdell ESA Beneficiary IRA Other: 3 LIST THE ASSETS YOU WANT TO TRANSFER A. Transfer from an ACAT eligible Brokerage Firm, Bank, Insurance/Annuity Co ., Trust Co ., or Transfer Agent - Check box for full or partial transfer. For partial transfers, list descriptions of assets and shares. Unless otherwise indicated, TD Ameritrade will transfer in full. Please note - The ACAT system does not allow for liquidation requests. To place trades, please contact your current custodian prior to submitting the transfer request. Most banks, insurance/annuity, and trust companies require original wet-ink signature mailed to TD Ameritrade. If transferring in Alternative Investments, please obtain a copy of the Transfer In Only Alternative Investment Client Custody Agreement from your Advisor, the terms of which will apply to our custody of your Alternative Investments. No signature is required. [] Full Transfer - To transfer entire account, check box and Partial Transfer - List specific security. If bonds are being transferred, skip to Section 4 (if applicable), then to the Signature Section. please supply the Bond CUSIP. Description of Asset (Partial transfers only) Quantity Description of Asset (Indicate # of shares or \"ALL\") (Partial transfers only) Quantity (Indicate # of shares or \"ALL\") NTRS, 665859104 8452 PFG,74251V102 123 SLA,029570108 654 For additional securities, see attached list. [ Page 1 of 5 TDAI 9582 REV. 02/17',\n",
       " 'Reset Form TD Ameritrade ACCOUNT TRANSFER FORM TO TRANSFER YOUR EXISTING Institutional ACCOUNT TO TD AMERITRADE Account # 895478129 Advisor Code 569820129 Case # PLEASE ATTACH A COPY OF YOUR LATEST STATEMENT. 1 TD AMERITRADE ACCOUNT INFORMATION Account Title/Registration: Marco S Ng Social Security Number/Tax ID: Clearing Number: 621729927 0188 Individual Personal Trust Limited Liability Company Roth IRA Qualified Retirement Plan (Non-Qualified) Employer Plan Type: Joint Estate Partnership/Investment Club SEP IRA Simple IRA UTMA/UGMA Corporate ] Traditional IRA/Rollover IRA Coverdell ESA Beneficiary IRA Other: 2 INFORMATION ON THE ACCOUNT YOU ARE TRANSFERRING FROM Account Title/Registration as shown on your statement: Account Number: Marco S Ng 987012129 Name of Delivering Firm: Charles Schwab Physical Address of Firm (no PO BOX): 2957 Patterson Road, Bronx, New York, 10461 Telephone Number (required): (541) 754-3129 Individual Personal Trust Limited Liability Company Roth IRA Qualified Retirement Plan (Non-Qualified) Employer Plan Type: Joint Estate Partnership/Investment Club SEP IRA Simple IRA Has SIMPLE IRA been funded for at least two years? Yes No UTMA/UGMA Corporate ] Traditional IRA/Rollover IRA Coverdell ESA Beneficiary IRA Other: 3 LIST THE ASSETS YOU WANT TO TRANSFER A. Transfer from an ACAT eligible Brokerage Firm, Bank, Insurance/Annuity Co ., Trust Co ., or Transfer Agent - Check box for full or partial transfer. For partial transfers, list descriptions of assets and shares. Unless otherwise indicated, TD Ameritrade will transfer in full. Please note - The ACAT system does not allow for liquidation requests. To place trades, please contact your current custodian prior to submitting the transfer request. Most banks, insurance/annuity, and trust companies require original wet-ink signature mailed to TD Ameritrade. If transferring in Alternative Investments, please obtain a copy of the Transfer In Only Alternative Investment Client Custody Agreement from your Advisor, the terms of which will apply to our custody of your Alternative Investments. No signature is required. 2] Full Transfer - To transfer entire account, check box and Partial Transfer - List specific security. If bonds are being transferred, skip to Section 4 (if applicable), then to the Signature Section. please supply the Bond CUSIP. Description of Asset Partial transfers only) Quantity (Indicate # of shares or \"ALL\") Description of Asset (Partial transfers only) Quantity (Indicate # of shares or \"ALL\") SLA,029570108 856 PFG,74251V102 3014 For additional securities, see attached list. [ Page 1 of 5 TDAI 9582 REV. 02/17']"
      ]
     },
     "execution_count": 38,
     "metadata": {},
     "output_type": "execute_result"
    }
   ],
   "source": [
    "text"
   ]
  },
  {
   "cell_type": "code",
   "execution_count": 39,
   "metadata": {},
   "outputs": [
    {
     "data": {
      "text/plain": [
       "'Reset Form TD Ameritrade ACCOUNT TRANSFER FORM TO TRANSFER YOUR EXISTING Institutional ACCOUNT TO TD AMERITRADE Account # 895478129 Advisor Code 569820129 Case # PLEASE ATTACH A COPY OF YOUR LATEST STATEMENT. 1 TD AMERITRADE ACCOUNT INFORMATION Account Title/Registration: Marco S Ng Social Security Number/Tax ID: Clearing Number: 621729927 0188 Individual Personal Trust Limited Liability Company Roth IRA Qualified Retirement Plan (Non-Qualified) Employer Plan Type: Joint Estate Partnership/Investment Club SEP IRA Simple IRA UTMA/UGMA Corporate ] Traditional IRA/Rollover IRA Coverdell ESA Beneficiary IRA Other: 2 INFORMATION ON THE ACCOUNT YOU ARE TRANSFERRING FROM Account Title/Registration as shown on your statement: Account Number: Marco S Ng 987012129 Name of Delivering Firm: Charles Schwab Physical Address of Firm (no PO BOX): 2957 Patterson Road, Bronx, New York, 10461 Telephone Number (required): (541) 754-3129 Individual Personal Trust Limited Liability Company Roth IRA Qualified Retirement Plan (Non-Qualified) Employer Plan Type: Joint Estate Partnership/Investment Club SEP IRA Simple IRA Has SIMPLE IRA been funded for at least two years? Yes No UTMA/UGMA Corporate ] Traditional IRA/Rollover IRA Coverdell ESA Beneficiary IRA Other: 3 LIST THE ASSETS YOU WANT TO TRANSFER A. Transfer from an ACAT eligible Brokerage Firm, Bank, Insurance/Annuity Co ., Trust Co ., or Transfer Agent - Check box for full or partial transfer. For partial transfers, list descriptions of assets and shares. Unless otherwise indicated, TD Ameritrade will transfer in full. Please note - The ACAT system does not allow for liquidation requests. To place trades, please contact your current custodian prior to submitting the transfer request. Most banks, insurance/annuity, and trust companies require original wet-ink signature mailed to TD Ameritrade. If transferring in Alternative Investments, please obtain a copy of the Transfer In Only Alternative Investment Client Custody Agreement from your Advisor, the terms of which will apply to our custody of your Alternative Investments. No signature is required. 2] Full Transfer - To transfer entire account, check box and Partial Transfer - List specific security. If bonds are being transferred, skip to Section 4 (if applicable), then to the Signature Section. please supply the Bond CUSIP. Description of Asset Partial transfers only) Quantity (Indicate # of shares or \"ALL\") Description of Asset (Partial transfers only) Quantity (Indicate # of shares or \"ALL\") SLA,029570108 856 PFG,74251V102 3014 For additional securities, see attached list. [ Page 1 of 5 TDAI 9582 REV. 02/17'"
      ]
     },
     "execution_count": 39,
     "metadata": {},
     "output_type": "execute_result"
    }
   ],
   "source": [
    "text[4]"
   ]
  },
  {
   "cell_type": "code",
   "execution_count": 40,
   "metadata": {
    "gather": {
     "logged": 1650777041177
    },
    "jupyter": {
     "outputs_hidden": false,
     "source_hidden": false
    },
    "nteract": {
     "transient": {
      "deleting": false
     }
    }
   },
   "outputs": [],
   "source": [
    "import pandas as pd \n",
    "\n",
    "details = {\n",
    "    'Title' : \"ACCOUNT TRANSFER FORM\",\n",
    "    'Client' : \"Marco S Ng\",\n",
    "    'SSN' : \"621729927\",\n",
    "    'Address': '2957 Patterson Road, Bronx,New York, 10461',\n",
    "    'Ext_text': [text[4]]\n",
    "}"
   ]
  },
  {
   "cell_type": "code",
   "execution_count": 21,
   "metadata": {
    "gather": {
     "logged": 1650777041193
    },
    "jupyter": {
     "outputs_hidden": false,
     "source_hidden": false
    },
    "nteract": {
     "transient": {
      "deleting": false
     }
    }
   },
   "outputs": [
    {
     "data": {
      "text/html": [
       "<div>\n",
       "<style scoped>\n",
       "    .dataframe tbody tr th:only-of-type {\n",
       "        vertical-align: middle;\n",
       "    }\n",
       "\n",
       "    .dataframe tbody tr th {\n",
       "        vertical-align: top;\n",
       "    }\n",
       "\n",
       "    .dataframe thead th {\n",
       "        text-align: right;\n",
       "    }\n",
       "</style>\n",
       "<table border=\"1\" class=\"dataframe\">\n",
       "  <thead>\n",
       "    <tr style=\"text-align: right;\">\n",
       "      <th></th>\n",
       "      <th>Title</th>\n",
       "      <th>Client</th>\n",
       "      <th>SSN</th>\n",
       "      <th>Address</th>\n",
       "      <th>Ext_text</th>\n",
       "    </tr>\n",
       "  </thead>\n",
       "  <tbody>\n",
       "    <tr>\n",
       "      <th>0</th>\n",
       "      <td>ACCOUNT TRANSFER FORM</td>\n",
       "      <td>Alexis W Figueroa</td>\n",
       "      <td>555455545</td>\n",
       "      <td>1376 Brentwood Drive, Austin, Texas, 78701</td>\n",
       "      <td>Reset Form TD Ameritrade ACCOUNT TRANSFER FORM...</td>\n",
       "    </tr>\n",
       "  </tbody>\n",
       "</table>\n",
       "</div>"
      ],
      "text/plain": [
       "                   Title             Client        SSN  \\\n",
       "0  ACCOUNT TRANSFER FORM  Alexis W Figueroa  555455545   \n",
       "\n",
       "                                      Address  \\\n",
       "0  1376 Brentwood Drive, Austin, Texas, 78701   \n",
       "\n",
       "                                            Ext_text  \n",
       "0  Reset Form TD Ameritrade ACCOUNT TRANSFER FORM...  "
      ]
     },
     "execution_count": 21,
     "metadata": {},
     "output_type": "execute_result"
    }
   ],
   "source": [
    "# creating a Dataframe object \n",
    "df = pd.DataFrame(details)\n",
    "df"
   ]
  },
  {
   "cell_type": "code",
   "execution_count": 41,
   "metadata": {
    "gather": {
     "logged": 1650777041208
    },
    "jupyter": {
     "outputs_hidden": false,
     "source_hidden": false
    },
    "nteract": {
     "transient": {
      "deleting": false
     }
    }
   },
   "outputs": [
    {
     "name": "stdout",
     "output_type": "stream",
     "text": [
      "                   Title              Client        SSN  \\\n",
      "0  ACCOUNT TRANSFER FORM   Alexis W Figueroa  555455545   \n",
      "1  ACCOUNT TRANSFER FORM  Claudia M McMullen   44190820   \n",
      "2  ACCOUNT TRANSFER FORM      David T Jarvis  372525158   \n",
      "3  ACCOUNT TRANSFER FORM       Kelly D Ellis  153472012   \n",
      "4  ACCOUNT TRANSFER FORM          Marco S Ng  621729927   \n",
      "\n",
      "                                             Address  \\\n",
      "0         1376 Brentwood Drive, Austin, Texas, 78701   \n",
      "1  2966 Bedford Street, New York, Connecticut, 10011   \n",
      "2           4572 Haven Lane, Lansing, Michigan,48933   \n",
      "3      4819 Jadewood Farms,Newton, New Jersey, 07860   \n",
      "4         2957 Patterson Road, Bronx,New York, 10461   \n",
      "\n",
      "                                            Ext_text  \n",
      "0  Reset Form TD Ameritrade ACCOUNT TRANSFER FORM...  \n",
      "1  [Reset Form TD Ameritrade ACCOUNT TRANSFER FOR...  \n",
      "2  [Reset Form TD Ameritrade ACCOUNT TRANSFER FOR...  \n",
      "3  [Reset Form TD Ameritrade ACCOUNT TRANSFER FOR...  \n",
      "4  [Reset Form TD Ameritrade ACCOUNT TRANSFER FOR...  \n"
     ]
    }
   ],
   "source": [
    "df = df.append(details, ignore_index=True)\n",
    "print(df.head())"
   ]
  },
  {
   "cell_type": "code",
   "execution_count": 42,
   "metadata": {
    "gather": {
     "logged": 1650777041223
    },
    "jupyter": {
     "outputs_hidden": false,
     "source_hidden": false
    },
    "nteract": {
     "transient": {
      "deleting": false
     }
    }
   },
   "outputs": [],
   "source": [
    "df.to_csv(\"train.csv\")"
   ]
  },
  {
   "cell_type": "code",
   "execution_count": 43,
   "metadata": {},
   "outputs": [
    {
     "data": {
      "text/html": [
       "<div>\n",
       "<style scoped>\n",
       "    .dataframe tbody tr th:only-of-type {\n",
       "        vertical-align: middle;\n",
       "    }\n",
       "\n",
       "    .dataframe tbody tr th {\n",
       "        vertical-align: top;\n",
       "    }\n",
       "\n",
       "    .dataframe thead th {\n",
       "        text-align: right;\n",
       "    }\n",
       "</style>\n",
       "<table border=\"1\" class=\"dataframe\">\n",
       "  <thead>\n",
       "    <tr style=\"text-align: right;\">\n",
       "      <th></th>\n",
       "      <th>Title</th>\n",
       "      <th>Client</th>\n",
       "      <th>SSN</th>\n",
       "      <th>Address</th>\n",
       "      <th>Ext_text</th>\n",
       "    </tr>\n",
       "  </thead>\n",
       "  <tbody>\n",
       "    <tr>\n",
       "      <th>0</th>\n",
       "      <td>ACCOUNT TRANSFER FORM</td>\n",
       "      <td>Alexis W Figueroa</td>\n",
       "      <td>555455545</td>\n",
       "      <td>1376 Brentwood Drive, Austin, Texas, 78701</td>\n",
       "      <td>Reset Form TD Ameritrade ACCOUNT TRANSFER FORM...</td>\n",
       "    </tr>\n",
       "    <tr>\n",
       "      <th>1</th>\n",
       "      <td>ACCOUNT TRANSFER FORM</td>\n",
       "      <td>Claudia M McMullen</td>\n",
       "      <td>44190820</td>\n",
       "      <td>2966 Bedford Street, New York, Connecticut, 10011</td>\n",
       "      <td>[Reset Form TD Ameritrade ACCOUNT TRANSFER FOR...</td>\n",
       "    </tr>\n",
       "    <tr>\n",
       "      <th>2</th>\n",
       "      <td>ACCOUNT TRANSFER FORM</td>\n",
       "      <td>David T Jarvis</td>\n",
       "      <td>372525158</td>\n",
       "      <td>4572 Haven Lane, Lansing, Michigan,48933</td>\n",
       "      <td>[Reset Form TD Ameritrade ACCOUNT TRANSFER FOR...</td>\n",
       "    </tr>\n",
       "    <tr>\n",
       "      <th>3</th>\n",
       "      <td>ACCOUNT TRANSFER FORM</td>\n",
       "      <td>Kelly D Ellis</td>\n",
       "      <td>153472012</td>\n",
       "      <td>4819 Jadewood Farms,Newton, New Jersey, 07860</td>\n",
       "      <td>[Reset Form TD Ameritrade ACCOUNT TRANSFER FOR...</td>\n",
       "    </tr>\n",
       "    <tr>\n",
       "      <th>4</th>\n",
       "      <td>ACCOUNT TRANSFER FORM</td>\n",
       "      <td>Marco S Ng</td>\n",
       "      <td>621729927</td>\n",
       "      <td>2957 Patterson Road, Bronx,New York, 10461</td>\n",
       "      <td>[Reset Form TD Ameritrade ACCOUNT TRANSFER FOR...</td>\n",
       "    </tr>\n",
       "  </tbody>\n",
       "</table>\n",
       "</div>"
      ],
      "text/plain": [
       "                   Title              Client        SSN  \\\n",
       "0  ACCOUNT TRANSFER FORM   Alexis W Figueroa  555455545   \n",
       "1  ACCOUNT TRANSFER FORM  Claudia M McMullen   44190820   \n",
       "2  ACCOUNT TRANSFER FORM      David T Jarvis  372525158   \n",
       "3  ACCOUNT TRANSFER FORM       Kelly D Ellis  153472012   \n",
       "4  ACCOUNT TRANSFER FORM          Marco S Ng  621729927   \n",
       "\n",
       "                                             Address  \\\n",
       "0         1376 Brentwood Drive, Austin, Texas, 78701   \n",
       "1  2966 Bedford Street, New York, Connecticut, 10011   \n",
       "2           4572 Haven Lane, Lansing, Michigan,48933   \n",
       "3      4819 Jadewood Farms,Newton, New Jersey, 07860   \n",
       "4         2957 Patterson Road, Bronx,New York, 10461   \n",
       "\n",
       "                                            Ext_text  \n",
       "0  Reset Form TD Ameritrade ACCOUNT TRANSFER FORM...  \n",
       "1  [Reset Form TD Ameritrade ACCOUNT TRANSFER FOR...  \n",
       "2  [Reset Form TD Ameritrade ACCOUNT TRANSFER FOR...  \n",
       "3  [Reset Form TD Ameritrade ACCOUNT TRANSFER FOR...  \n",
       "4  [Reset Form TD Ameritrade ACCOUNT TRANSFER FOR...  "
      ]
     },
     "execution_count": 43,
     "metadata": {},
     "output_type": "execute_result"
    }
   ],
   "source": [
    "df"
   ]
  },
  {
   "cell_type": "code",
   "execution_count": null,
   "metadata": {},
   "outputs": [],
   "source": []
  }
 ],
 "metadata": {
  "kernel_info": {
   "name": "python38-azureml"
  },
  "kernelspec": {
   "display_name": "Python 3",
   "language": "python",
   "name": "python3"
  },
  "language_info": {
   "codemirror_mode": {
    "name": "ipython",
    "version": 3
   },
   "file_extension": ".py",
   "mimetype": "text/x-python",
   "name": "python",
   "nbconvert_exporter": "python",
   "pygments_lexer": "ipython3",
   "version": "3.8.3"
  },
  "microsoft": {
   "host": {
    "AzureML": {
     "notebookHasBeenCompleted": true
    }
   }
  },
  "nteract": {
   "version": "nteract-front-end@1.0.0"
  }
 },
 "nbformat": 4,
 "nbformat_minor": 2
}
